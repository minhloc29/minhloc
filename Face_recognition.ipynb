{
  "nbformat": 4,
  "nbformat_minor": 0,
  "metadata": {
    "colab": {
      "provenance": [],
      "gpuType": "T4",
      "authorship_tag": "ABX9TyPw7DLDKI4nrdA6HY8zY8RX",
      "include_colab_link": true
    },
    "kernelspec": {
      "name": "python3",
      "display_name": "Python 3"
    },
    "language_info": {
      "name": "python"
    },
    "accelerator": "GPU"
  },
  "cells": [
    {
      "cell_type": "markdown",
      "metadata": {
        "id": "view-in-github",
        "colab_type": "text"
      },
      "source": [
        "<a href=\"https://colab.research.google.com/github/minhloc29/minhloc/blob/main/Face_recognition.ipynb\" target=\"_parent\"><img src=\"https://colab.research.google.com/assets/colab-badge.svg\" alt=\"Open In Colab\"/></a>"
      ]
    },
    {
      "cell_type": "code",
      "source": [
        "!unzip data.zip\n"
      ],
      "metadata": {
        "colab": {
          "base_uri": "https://localhost:8080/"
        },
        "id": "ZdZxsfOYkLX3",
        "outputId": "2ddce116-f76f-466c-e8e6-99595819eb21"
      },
      "execution_count": null,
      "outputs": [
        {
          "output_type": "stream",
          "name": "stdout",
          "text": [
            "Archive:  data.zip\n",
            "replace data/anchor/.ipynb_checkpoints/14bdc340-4a30-11ef-b5cf-4cebbd9472ba-checkpoint.jpg? [y]es, [n]o, [A]ll, [N]one, [r]ename: "
          ]
        }
      ]
    },
    {
      "cell_type": "code",
      "source": [
        "import tensorflow as tf\n",
        "import numpy as np\n",
        "import cv2\n",
        "import os\n",
        "from matplotlib import pyplot as plt\n",
        "import random\n",
        "from tensorflow.keras.models import Model\n",
        "from tensorflow.keras.layers import Layer, Conv2D, Dense, MaxPooling2D, Input, Flatten\n",
        "#1. MOVE THE UNLABELLED IMAGE TO THE NEGATIVE FOLDER\n",
        "# for image in os.listdir('unlabelled_image'):\n",
        "#     image_path = os.path.join('unlabelled_image', image)\n",
        "#     new_image_path = os.path.join('data', 'negative', image)\n",
        "#     os.replace(image_path, new_image_path)\n",
        "# folder: 3445 images\n",
        "POS_PATH = os.path.join('data', 'positive')\n",
        "NEG_PATH = os.path.join('data', 'negative')\n",
        "ANC_PATH = os.path.join('data', 'anchor')\n"
      ],
      "metadata": {
        "id": "wPeWhmYjkrgD"
      },
      "execution_count": null,
      "outputs": []
    },
    {
      "cell_type": "markdown",
      "source": [],
      "metadata": {
        "id": "hcjxZOjeTvh-"
      }
    },
    {
      "cell_type": "code",
      "source": [
        "!unzip data.zip"
      ],
      "metadata": {
        "id": "EVMgX6g1B2Uz"
      },
      "execution_count": null,
      "outputs": []
    },
    {
      "cell_type": "code",
      "source": [
        "#DATA AUGMENTATION\n",
        "def data_aug(img):\n",
        "    data = []\n",
        "    for i in range(9):\n",
        "        img = tf.image.stateless_random_brightness(img, max_delta=0.02, seed=(1,2))\n",
        "        img = tf.image.stateless_random_contrast(img, lower=0.6, upper=1, seed=(1,3))\n",
        "        # img = tf.image.stateless_random_crop(img, size=(20,20,3), seed=(1,2))\n",
        "        img = tf.image.stateless_random_flip_left_right(img, seed=(np.random.randint(100),np.random.randint(100)))\n",
        "        img = tf.image.stateless_random_jpeg_quality(img, min_jpeg_quality=90, max_jpeg_quality=100, seed=(np.random.randint(100),np.random.randint(100)))\n",
        "        img = tf.image.stateless_random_saturation(img, lower=0.9,upper=1, seed=(np.random.randint(100),np.random.randint(100)))\n",
        "        data.append(img)\n",
        "    return data\n",
        "test_img = cv2.imread(os.path.join(POS_PATH, '8da1f394-4a30-11ef-8534-4cebbd9472ba.jpg'))\n",
        "data = data_aug(test_img)\n",
        "len(data)"
      ],
      "metadata": {
        "id": "HBGzzEWG25VF"
      },
      "execution_count": null,
      "outputs": []
    },
    {
      "cell_type": "code",
      "source": [
        "#create dataset\n",
        "anchor = tf.data.Dataset.list_files(ANC_PATH + '/*.jpg').take(300)\n",
        "positive = tf.data.Dataset.list_files(POS_PATH + '/*.jpg').take(300)\n",
        "negative = tf.data.Dataset.list_files(NEG_PATH + '/*.jpg').take(300)\n",
        "img = os.path.join(POS_PATH, '8d4907df-4a30-11ef-bd8c-4cebbd9472ba.jpg')\n",
        "#RECSALE AND RESIZE IMAGE\n",
        "def preprocess(img_path):\n",
        "    img = tf.io.read_file(img_path)\n",
        "    img_num = tf.image.decode_jpeg(img, channels=3)\n",
        "    img_num = tf.image.resize(img_num, (100, 100))\n",
        "    img_num = img_num / 255.0\n",
        "    return img_num\n",
        "anchor = anchor.map(preprocess)\n",
        "positive = positive.map(preprocess)\n",
        "negative = negative.map(preprocess)\n",
        "positives = tf.data.Dataset.zip((anchor, positive,  tf.data.Dataset.from_tensor_slices(tf.ones(len(anchor)))))\n",
        "negatives = tf.data.Dataset.zip((anchor, negative,  tf.data.Dataset.from_tensor_slices(tf.zeros(len(anchor)))))\n",
        "data = positives.concatenate(negatives)\n",
        "data = data.shuffle(buffer_size = 1000)\n",
        "data.cache()\n",
        "#Create train, val, test\n",
        "train_data = data.take(round(len(data) *0.7))\n",
        "test_data = data.skip(round(len(data) *0.7))\n",
        "train_data = train_data.batch(16)\n",
        "# len(train_data) count through batches: 27 batches\n",
        "train_data = train_data.prefetch(8)\n",
        "test_data = test_data.take(round(len(data) *0.3))\n",
        "test_data = test_data.batch(16)\n",
        "test_data = test_data.prefetch(8)"
      ],
      "metadata": {
        "id": "UdyvKvid2960"
      },
      "execution_count": null,
      "outputs": []
    },
    {
      "cell_type": "code",
      "source": [
        "x = train_data.as_numpy_iterator().next()\n",
        "x[2]"
      ],
      "metadata": {
        "id": "pj7GDBp4mZdN"
      },
      "execution_count": null,
      "outputs": []
    },
    {
      "cell_type": "code",
      "source": [
        "#MODEL BUILDING\n",
        "def embedding():\n",
        "    inp = Input(shape = (100, 100, 3))\n",
        "    #First\n",
        "    cv1 = Conv2D(64, (10, 10), activation = 'relu')(inp)\n",
        "    m1 = MaxPooling2D(64, (2, 2), padding = 'same')(cv1)\n",
        "    #Second\n",
        "    c2 = Conv2D(128, (7,7), activation='relu')(m1)\n",
        "    m2 = MaxPooling2D(64, (2,2), padding='same')(c2)\n",
        "\n",
        "    # Third block\n",
        "    c3 = Conv2D(128, (4,4), activation='relu')(m2)\n",
        "    m3 = MaxPooling2D(64, (2,2), padding='same')(c3)\n",
        "    # Final embedding block\n",
        "    c4 = Conv2D(256, (4,4), activation='relu')(m3)\n",
        "    f1 = Flatten()(c4)\n",
        "    d1 = Dense(4096, activation='sigmoid')(f1)\n",
        "    result = Model(inputs = inp, outputs = d1, name = 'embedding')\n",
        "    return result\n",
        "\n",
        "embed = embedding()\n",
        "class Dist(Layer):\n",
        "    def __init__(self, **kwargs):\n",
        "        super().__init__(**kwargs)\n",
        "    def call(self, input_embedding, val_embedding):\n",
        "        return tf.math.abs(input_embedding - val_embedding)\n",
        "\n",
        "#make a full model, including 2 inputs of train and val, a dist layer\n",
        "def full_model():\n",
        "    train_input = Input(shape = (100, 100, 3))\n",
        "    val_input = Input(shape = (100, 100, 3))\n",
        "    dist = Dist()\n",
        "    dist_compute = dist(embed(train_input), embed(val_input))\n",
        "    result = Dense(1, activation = 'sigmoid')(dist_compute)\n",
        "    return Model(inputs = [train_input, val_input], outputs = result)\n",
        "model = full_model()\n",
        "model.summary()\n"
      ],
      "metadata": {
        "id": "di2UJxUk3GXo"
      },
      "execution_count": null,
      "outputs": []
    },
    {
      "cell_type": "code",
      "source": [
        "X, y, label = test_data.as_numpy_iterator().next()\n",
        "X"
      ],
      "metadata": {
        "id": "bBsWtzaM3MXs"
      },
      "execution_count": null,
      "outputs": []
    },
    {
      "cell_type": "code",
      "source": [
        "#LOSS\n",
        "closs = tf.keras.losses.BinaryCrossentropy()\n",
        "opt = tf.keras.optimizers.Adam(0.001)\n",
        "def train_step(batch):\n",
        "    with tf.GradientTape() as tape:\n",
        "        #anchor and pos/neg images\n",
        "        X = batch[:2]\n",
        "        #labels\n",
        "        y_true = batch[2]\n",
        "        #forward pass\n",
        "        y_pred = model(X, training = True)\n",
        "        loss = closs(y_true, y_pred)\n",
        "        grad = tape.gradient(loss, model.trainable_variables)\n",
        "        opt.apply_gradients(zip(grad, model.trainable_variables))\n",
        "    return loss\n",
        "\n",
        "from tensorflow.keras.metrics import Precision, Recall\n",
        "\n",
        "def train(data, EPOCHS):\n",
        "    # Loop through epochs\n",
        "    for epoch in range(1, EPOCHS+1):\n",
        "        print('\\n Epoch {}/{}'.format(epoch, EPOCHS))\n",
        "        progbar = tf.keras.utils.Progbar(len(data))\n",
        "\n",
        "        # Creating a metric object\n",
        "        r = Recall()\n",
        "        p = Precision()\n",
        "\n",
        "        # Loop through each batch\n",
        "        for idx, batch in enumerate(data):\n",
        "            # Run train step here\n",
        "            loss = train_step(batch)\n",
        "            yhat = model.predict(batch[:2])\n",
        "            r.update_state(batch[2], yhat)\n",
        "            p.update_state(batch[2], yhat)\n",
        "            progbar.update(idx+1)\n",
        "        print(loss.numpy(), r.result().numpy(), p.result().numpy())\n",
        "\n",
        "        # Save checkpoints\n",
        "        # if epoch % 10 == 0:\n",
        "        #     checkpoint.save(file_prefix=checkpoint_prefix)\n",
        "\n",
        "train(train_data, 20)"
      ],
      "metadata": {
        "id": "_OpYbiPx3Qr2"
      },
      "execution_count": null,
      "outputs": []
    },
    {
      "cell_type": "code",
      "source": [
        "test_inp, test_val, lab = test_data.as_numpy_iterator().next()\n",
        "y_pred = model.predict([test_inp, test_val])\n",
        "label_pred = [1 if x > 0.5 else 0 for x in y_pred]\n",
        "print(lab)\n",
        "print(label_pred)"
      ],
      "metadata": {
        "id": "QuAQqLCPTuvQ"
      },
      "execution_count": null,
      "outputs": []
    },
    {
      "cell_type": "markdown",
      "source": [],
      "metadata": {
        "id": "4Ozjsm0qpO_n"
      }
    }
  ]
}